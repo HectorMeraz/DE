{
 "cells": [
  {
   "cell_type": "markdown",
   "id": "2080616d",
   "metadata": {},
   "source": [
    "### Imports"
   ]
  },
  {
   "cell_type": "code",
   "execution_count": 1,
   "id": "7178bcdf",
   "metadata": {},
   "outputs": [],
   "source": [
    "import psycopg2\n",
    "import pandas as pd"
   ]
  },
  {
   "cell_type": "code",
   "execution_count": 2,
   "id": "f6d73cfd",
   "metadata": {},
   "outputs": [],
   "source": [
    "def create_database():\n",
    "    #connect to default database\n",
    "    conn = psycopg2.connect(\"host=127.0.0.1 dbname=postgres user=**** password=****\n",
    "    conn.set_session(autocommit=True)\n",
    "    cur = conn.cursor()\n",
    "    \n",
    "    #create sparkify database with UTF8 encoding\n",
    "    cur.execute(\"DROP DATABASE IF EXISTS accounts\")\n",
    "    cur.execute(\"CREATE DATABASE accounts\")\n",
    "    \n",
    "    #close connection to default database\n",
    "    conn.close()\n",
    "    \n",
    "    #connect to sparkify database\n",
    "    conn = psycopg2.connect(\"host=127.0.0.1 dbname=accounts user=**** password=****\")\n",
    "    cur = conn.cursor()\n",
    "    \n",
    "    return cur, conn"
   ]
  },
  {
   "cell_type": "code",
   "execution_count": 3,
   "id": "1887c7a2",
   "metadata": {},
   "outputs": [],
   "source": [
    "def drop_tables(cur, conn):\n",
    "    for query in drop_table_queries:\n",
    "        cur.execute(query)\n",
    "        conn.commit()"
   ]
  },
  {
   "cell_type": "code",
   "execution_count": 4,
   "id": "7891ce67",
   "metadata": {},
   "outputs": [],
   "source": [
    "def create_tables(cur, conn):\n",
    "    for query in create_table_queries:\n",
    "        cur.execute(query)\n",
    "        conn.commit()"
   ]
  },
  {
   "cell_type": "markdown",
   "id": "6dc1d09e",
   "metadata": {},
   "source": [
    "### Accounts Country"
   ]
  },
  {
   "cell_type": "code",
   "execution_count": 5,
   "id": "00b509bf",
   "metadata": {},
   "outputs": [],
   "source": [
    "AccountsCountry = pd.read_csv(\"Wealth Data/Wealth-AccountsCountry.csv\", nrows=147)"
   ]
  },
  {
   "cell_type": "code",
   "execution_count": 6,
   "id": "614abab2",
   "metadata": {},
   "outputs": [
    {
     "data": {
      "text/plain": [
       "Index(['Code', 'Long Name', 'Income Group', 'Region', 'Lending category',\n",
       "       'Other groups', 'Currency Unit', 'Latest population census',\n",
       "       'Latest household survey', 'Special Notes',\n",
       "       'National accounts base year', 'National accounts reference year',\n",
       "       'System of National Accounts', 'SNA price valuation',\n",
       "       'Alternative conversion factor', 'PPP survey years',\n",
       "       'Balance of Payments Manual in use', 'External debt Reporting status',\n",
       "       'System of trade', 'Government Accounting concept',\n",
       "       'IMF data dissemination standard',\n",
       "       'Source of most recent Income and expenditure data',\n",
       "       'Vital registration complete', 'Latest agricultural census',\n",
       "       'Latest industrial data', 'Latest trade data',\n",
       "       'Latest water withdrawal data', '2-alpha code', 'WB-2 code',\n",
       "       'Table Name', 'Short Name'],\n",
       "      dtype='object')"
      ]
     },
     "execution_count": 6,
     "metadata": {},
     "output_type": "execute_result"
    }
   ],
   "source": [
    "AccountsCountry.columns"
   ]
  },
  {
   "cell_type": "code",
   "execution_count": 7,
   "id": "6d5f9ec4",
   "metadata": {},
   "outputs": [],
   "source": [
    "selected_columns = [\"Code\", \"Short Name\", \"Table Name\", \"Long Name\", \"Currency Unit\"]\n",
    "AccountsCountry_clean = AccountsCountry[selected_columns]"
   ]
  },
  {
   "cell_type": "code",
   "execution_count": 8,
   "id": "fe13378b",
   "metadata": {},
   "outputs": [],
   "source": [
    "AccountsCountry_clean = AccountsCountry_clean.drop_duplicates(subset=[\"Code\"])"
   ]
  },
  {
   "cell_type": "code",
   "execution_count": 9,
   "id": "23d6a91b",
   "metadata": {},
   "outputs": [
    {
     "data": {
      "text/html": [
       "<div>\n",
       "<style scoped>\n",
       "    .dataframe tbody tr th:only-of-type {\n",
       "        vertical-align: middle;\n",
       "    }\n",
       "\n",
       "    .dataframe tbody tr th {\n",
       "        vertical-align: top;\n",
       "    }\n",
       "\n",
       "    .dataframe thead th {\n",
       "        text-align: right;\n",
       "    }\n",
       "</style>\n",
       "<table border=\"1\" class=\"dataframe\">\n",
       "  <thead>\n",
       "    <tr style=\"text-align: right;\">\n",
       "      <th></th>\n",
       "      <th>Code</th>\n",
       "      <th>Short Name</th>\n",
       "      <th>Table Name</th>\n",
       "      <th>Long Name</th>\n",
       "      <th>Currency Unit</th>\n",
       "    </tr>\n",
       "  </thead>\n",
       "  <tbody>\n",
       "    <tr>\n",
       "      <th>0</th>\n",
       "      <td>ALB</td>\n",
       "      <td>Albania</td>\n",
       "      <td>Albania</td>\n",
       "      <td>Republic of Albania</td>\n",
       "      <td>Albanian lek</td>\n",
       "    </tr>\n",
       "    <tr>\n",
       "      <th>1</th>\n",
       "      <td>ARG</td>\n",
       "      <td>Argentina</td>\n",
       "      <td>Argentina</td>\n",
       "      <td>Argentine Republic</td>\n",
       "      <td>Argentine peso</td>\n",
       "    </tr>\n",
       "    <tr>\n",
       "      <th>2</th>\n",
       "      <td>ARM</td>\n",
       "      <td>Armenia</td>\n",
       "      <td>Armenia</td>\n",
       "      <td>Republic of Armenia</td>\n",
       "      <td>Armenian dram</td>\n",
       "    </tr>\n",
       "    <tr>\n",
       "      <th>3</th>\n",
       "      <td>AUS</td>\n",
       "      <td>Australia</td>\n",
       "      <td>Australia</td>\n",
       "      <td>Commonwealth of Australia</td>\n",
       "      <td>Australian dollar</td>\n",
       "    </tr>\n",
       "    <tr>\n",
       "      <th>4</th>\n",
       "      <td>AUT</td>\n",
       "      <td>Austria</td>\n",
       "      <td>Austria</td>\n",
       "      <td>Republic of Austria</td>\n",
       "      <td>Euro</td>\n",
       "    </tr>\n",
       "  </tbody>\n",
       "</table>\n",
       "</div>"
      ],
      "text/plain": [
       "  Code Short Name Table Name                  Long Name      Currency Unit\n",
       "0  ALB    Albania    Albania        Republic of Albania       Albanian lek\n",
       "1  ARG  Argentina  Argentina         Argentine Republic     Argentine peso\n",
       "2  ARM    Armenia    Armenia        Republic of Armenia      Armenian dram\n",
       "3  AUS  Australia  Australia  Commonwealth of Australia  Australian dollar\n",
       "4  AUT    Austria    Austria        Republic of Austria               Euro"
      ]
     },
     "execution_count": 9,
     "metadata": {},
     "output_type": "execute_result"
    }
   ],
   "source": [
    "AccountsCountry_clean.head()"
   ]
  },
  {
   "cell_type": "code",
   "execution_count": 10,
   "id": "c77b9d13",
   "metadata": {},
   "outputs": [
    {
     "name": "stdout",
     "output_type": "stream",
     "text": [
      "(147, 31)\n",
      "(146, 5)\n"
     ]
    }
   ],
   "source": [
    "print(AccountsCountry.shape)\n",
    "print(AccountsCountry_clean.shape)"
   ]
  },
  {
   "cell_type": "code",
   "execution_count": 11,
   "id": "b82c6064",
   "metadata": {},
   "outputs": [
    {
     "data": {
      "text/html": [
       "<div>\n",
       "<style scoped>\n",
       "    .dataframe tbody tr th:only-of-type {\n",
       "        vertical-align: middle;\n",
       "    }\n",
       "\n",
       "    .dataframe tbody tr th {\n",
       "        vertical-align: top;\n",
       "    }\n",
       "\n",
       "    .dataframe thead th {\n",
       "        text-align: right;\n",
       "    }\n",
       "</style>\n",
       "<table border=\"1\" class=\"dataframe\">\n",
       "  <thead>\n",
       "    <tr style=\"text-align: right;\">\n",
       "      <th></th>\n",
       "      <th>Code</th>\n",
       "      <th>Short Name</th>\n",
       "      <th>Table Name</th>\n",
       "      <th>Long Name</th>\n",
       "      <th>Currency Unit</th>\n",
       "    </tr>\n",
       "  </thead>\n",
       "  <tbody>\n",
       "    <tr>\n",
       "      <th>0</th>\n",
       "      <td>ALB</td>\n",
       "      <td>Albania</td>\n",
       "      <td>Albania</td>\n",
       "      <td>Republic of Albania</td>\n",
       "      <td>Albanian lek</td>\n",
       "    </tr>\n",
       "    <tr>\n",
       "      <th>1</th>\n",
       "      <td>ARG</td>\n",
       "      <td>Argentina</td>\n",
       "      <td>Argentina</td>\n",
       "      <td>Argentine Republic</td>\n",
       "      <td>Argentine peso</td>\n",
       "    </tr>\n",
       "    <tr>\n",
       "      <th>2</th>\n",
       "      <td>ARM</td>\n",
       "      <td>Armenia</td>\n",
       "      <td>Armenia</td>\n",
       "      <td>Republic of Armenia</td>\n",
       "      <td>Armenian dram</td>\n",
       "    </tr>\n",
       "    <tr>\n",
       "      <th>3</th>\n",
       "      <td>AUS</td>\n",
       "      <td>Australia</td>\n",
       "      <td>Australia</td>\n",
       "      <td>Commonwealth of Australia</td>\n",
       "      <td>Australian dollar</td>\n",
       "    </tr>\n",
       "    <tr>\n",
       "      <th>4</th>\n",
       "      <td>AUT</td>\n",
       "      <td>Austria</td>\n",
       "      <td>Austria</td>\n",
       "      <td>Republic of Austria</td>\n",
       "      <td>Euro</td>\n",
       "    </tr>\n",
       "  </tbody>\n",
       "</table>\n",
       "</div>"
      ],
      "text/plain": [
       "  Code Short Name Table Name                  Long Name      Currency Unit\n",
       "0  ALB    Albania    Albania        Republic of Albania       Albanian lek\n",
       "1  ARG  Argentina  Argentina         Argentine Republic     Argentine peso\n",
       "2  ARM    Armenia    Armenia        Republic of Armenia      Armenian dram\n",
       "3  AUS  Australia  Australia  Commonwealth of Australia  Australian dollar\n",
       "4  AUT    Austria    Austria        Republic of Austria               Euro"
      ]
     },
     "execution_count": 11,
     "metadata": {},
     "output_type": "execute_result"
    }
   ],
   "source": [
    "AccountsCountry_clean.head()"
   ]
  },
  {
   "cell_type": "markdown",
   "id": "6398e17a",
   "metadata": {},
   "source": [
    "### Acounts Data"
   ]
  },
  {
   "cell_type": "code",
   "execution_count": 12,
   "id": "7e195c7b",
   "metadata": {},
   "outputs": [],
   "source": [
    "AccountsData = pd.read_csv(\"Wealth Data/Wealth-AccountData.csv\")"
   ]
  },
  {
   "cell_type": "code",
   "execution_count": 13,
   "id": "9cbdaa47",
   "metadata": {},
   "outputs": [
    {
     "data": {
      "text/plain": [
       "(7592, 28)"
      ]
     },
     "execution_count": 13,
     "metadata": {},
     "output_type": "execute_result"
    }
   ],
   "source": [
    "AccountsData.shape"
   ]
  },
  {
   "cell_type": "code",
   "execution_count": 14,
   "id": "d44c9f95",
   "metadata": {},
   "outputs": [
    {
     "data": {
      "text/plain": [
       "Index(['Country Name', 'Country Code', 'Series Name', 'Series Code',\n",
       "       '1995 [YR1995]', '1996 [YR1996]', '1997 [YR1997]', '1998 [YR1998]',\n",
       "       '1999 [YR1999]', '2000 [YR2000]', '2001 [YR2001]', '2002 [YR2002]',\n",
       "       '2003 [YR2003]', '2004 [YR2004]', '2005 [YR2005]', '2006 [YR2006]',\n",
       "       '2007 [YR2007]', '2008 [YR2008]', '2009 [YR2009]', '2010 [YR2010]',\n",
       "       '2011 [YR2011]', '2012 [YR2012]', '2013 [YR2013]', '2014 [YR2014]',\n",
       "       '2015 [YR2015]', '2016 [YR2016]', '2017 [YR2017]', '2018 [YR2018]'],\n",
       "      dtype='object')"
      ]
     },
     "execution_count": 14,
     "metadata": {},
     "output_type": "execute_result"
    }
   ],
   "source": [
    "AccountsData.columns"
   ]
  },
  {
   "cell_type": "code",
   "execution_count": 15,
   "id": "0cbac127",
   "metadata": {},
   "outputs": [],
   "source": [
    "AccountsData = AccountsData[['Country Name', 'Country Code', 'Series Name', 'Series Code',\n",
    "                           '1995 [YR1995]', '2000 [YR2000]', '2005 [YR2005]', '2010 [YR2010]',\n",
    "                           '2014 [YR2014]']]"
   ]
  },
  {
   "cell_type": "code",
   "execution_count": 16,
   "id": "739cbf8f",
   "metadata": {},
   "outputs": [
    {
     "data": {
      "text/plain": [
       "Index(['Country Name', 'Country Code', 'Series Name', 'Series Code',\n",
       "       '1995 [YR1995]', '2000 [YR2000]', '2005 [YR2005]', '2010 [YR2010]',\n",
       "       '2014 [YR2014]'],\n",
       "      dtype='object')"
      ]
     },
     "execution_count": 16,
     "metadata": {},
     "output_type": "execute_result"
    }
   ],
   "source": [
    "AccountsData.columns"
   ]
  },
  {
   "cell_type": "code",
   "execution_count": 31,
   "id": "cac8592e",
   "metadata": {},
   "outputs": [],
   "source": [
    "AccountsData_clean = AccountsData.replace('..', 0)"
   ]
  },
  {
   "cell_type": "markdown",
   "id": "f6b53d4c",
   "metadata": {},
   "source": [
    "### Accounts Series"
   ]
  },
  {
   "cell_type": "code",
   "execution_count": 17,
   "id": "d2ce4f73",
   "metadata": {},
   "outputs": [],
   "source": [
    "AccountsSeries = pd.read_csv(\"Wealth Data/Wealth-AccountSeries.csv\")"
   ]
  },
  {
   "cell_type": "code",
   "execution_count": 18,
   "id": "793c72e3",
   "metadata": {},
   "outputs": [
    {
     "data": {
      "text/plain": [
       "Index(['Code', 'Indicator Name', 'Long definition', 'Source', 'Topic',\n",
       "       'Unit of measure', 'Periodicity', 'Reference period',\n",
       "       'Statistical concept and methodology', 'Previous Indicator Code',\n",
       "       'Previous Indicator Name'],\n",
       "      dtype='object')"
      ]
     },
     "execution_count": 18,
     "metadata": {},
     "output_type": "execute_result"
    }
   ],
   "source": [
    "AccountsSeries.columns"
   ]
  },
  {
   "cell_type": "code",
   "execution_count": 19,
   "id": "fcfd4909",
   "metadata": {},
   "outputs": [],
   "source": [
    "AccountsSeries = AccountsSeries[['Code',\"Topic\",\"Indicator Name\",\"Long definition\"]]"
   ]
  },
  {
   "cell_type": "code",
   "execution_count": 20,
   "id": "59ab27c1",
   "metadata": {},
   "outputs": [
    {
     "data": {
      "text/html": [
       "<div>\n",
       "<style scoped>\n",
       "    .dataframe tbody tr th:only-of-type {\n",
       "        vertical-align: middle;\n",
       "    }\n",
       "\n",
       "    .dataframe tbody tr th {\n",
       "        vertical-align: top;\n",
       "    }\n",
       "\n",
       "    .dataframe thead th {\n",
       "        text-align: right;\n",
       "    }\n",
       "</style>\n",
       "<table border=\"1\" class=\"dataframe\">\n",
       "  <thead>\n",
       "    <tr style=\"text-align: right;\">\n",
       "      <th></th>\n",
       "      <th>Code</th>\n",
       "      <th>Topic</th>\n",
       "      <th>Indicator Name</th>\n",
       "      <th>Long definition</th>\n",
       "    </tr>\n",
       "  </thead>\n",
       "  <tbody>\n",
       "    <tr>\n",
       "      <th>0</th>\n",
       "      <td>NW.HCA.TO</td>\n",
       "      <td>Human capital</td>\n",
       "      <td>Human capital (constant 2018 US$)</td>\n",
       "      <td>Human capital is computed as the present value...</td>\n",
       "    </tr>\n",
       "    <tr>\n",
       "      <th>1</th>\n",
       "      <td>NW.HCA.PC</td>\n",
       "      <td>Human capital</td>\n",
       "      <td>Human capital per capita (constant 2018 US$)</td>\n",
       "      <td>Human capital is computed as the present value...</td>\n",
       "    </tr>\n",
       "    <tr>\n",
       "      <th>2</th>\n",
       "      <td>NW.HCA.FEMP.PC</td>\n",
       "      <td>Human capital</td>\n",
       "      <td>Human capital per capita, employed female (con...</td>\n",
       "      <td>Human capital is computed as the present value...</td>\n",
       "    </tr>\n",
       "    <tr>\n",
       "      <th>3</th>\n",
       "      <td>NW.HCA.MEMP.PC</td>\n",
       "      <td>Human capital</td>\n",
       "      <td>Human capital per capita, employed male (const...</td>\n",
       "      <td>Human capital is computed as the present value...</td>\n",
       "    </tr>\n",
       "    <tr>\n",
       "      <th>4</th>\n",
       "      <td>NW.HCA.FEMA.PC</td>\n",
       "      <td>Human capital</td>\n",
       "      <td>Human capital per capita, female (constant 201...</td>\n",
       "      <td>Human capital is computed as the present value...</td>\n",
       "    </tr>\n",
       "  </tbody>\n",
       "</table>\n",
       "</div>"
      ],
      "text/plain": [
       "             Code          Topic  \\\n",
       "0       NW.HCA.TO  Human capital   \n",
       "1       NW.HCA.PC  Human capital   \n",
       "2  NW.HCA.FEMP.PC  Human capital   \n",
       "3  NW.HCA.MEMP.PC  Human capital   \n",
       "4  NW.HCA.FEMA.PC  Human capital   \n",
       "\n",
       "                                      Indicator Name  \\\n",
       "0                  Human capital (constant 2018 US$)   \n",
       "1       Human capital per capita (constant 2018 US$)   \n",
       "2  Human capital per capita, employed female (con...   \n",
       "3  Human capital per capita, employed male (const...   \n",
       "4  Human capital per capita, female (constant 201...   \n",
       "\n",
       "                                     Long definition  \n",
       "0  Human capital is computed as the present value...  \n",
       "1  Human capital is computed as the present value...  \n",
       "2  Human capital is computed as the present value...  \n",
       "3  Human capital is computed as the present value...  \n",
       "4  Human capital is computed as the present value...  "
      ]
     },
     "execution_count": 20,
     "metadata": {},
     "output_type": "execute_result"
    }
   ],
   "source": [
    "AccountsSeries.head()"
   ]
  },
  {
   "cell_type": "code",
   "execution_count": 21,
   "id": "60eac99c",
   "metadata": {},
   "outputs": [],
   "source": [
    "cur, conn = create_database()"
   ]
  },
  {
   "cell_type": "code",
   "execution_count": 22,
   "id": "d8c573ff",
   "metadata": {},
   "outputs": [],
   "source": [
    "songplay_table_create = (\"\"\"CREATE TABLE IF NOT EXISTS accountscountry(\n",
    "code VARCHAR PRIMARY KEY,\n",
    "short_name VARCHAR,\n",
    "table_name VARCHAR,\n",
    "long_name VARCHAR,\n",
    "currency_unit VARCHAR)\n",
    "\"\"\")"
   ]
  },
  {
   "cell_type": "code",
   "execution_count": 23,
   "id": "2254b283",
   "metadata": {},
   "outputs": [],
   "source": [
    "cur.execute(songplay_table_create)\n",
    "conn.commit()\n"
   ]
  },
  {
   "cell_type": "code",
   "execution_count": 24,
   "id": "243b4086",
   "metadata": {},
   "outputs": [],
   "source": [
    "accounts_data_table_create = (\"\"\"CREATE TABLE IF NOT EXISTS accountsdata(\n",
    "country_name VARCHAR,\n",
    "country_code VARCHAR,\n",
    "series_name VARCHAR,\n",
    "series_code VARCHAR,\n",
    "year_1995 numeric,\n",
    "year_2000 numeric,\n",
    "year_2005 numeric,\n",
    "year_2010 numeric,\n",
    "year_2014 numeric\n",
    ")\"\"\")\n",
    "cur.execute(accounts_data_table_create)\n",
    "conn.commit()"
   ]
  },
  {
   "cell_type": "code",
   "execution_count": 25,
   "id": "107e7fd6",
   "metadata": {},
   "outputs": [],
   "source": [
    "accountseries_data_table_create = (\"\"\" CREATE TABLE IF NOT EXISTS accountseries(\n",
    "code VARCHAR,\n",
    "topic VARCHAR,\n",
    "indicator_name VARCHAR,\n",
    "long_definition VARCHAR\n",
    ")\"\"\")\n",
    "cur.execute(accountseries_data_table_create)\n",
    "conn.commit()"
   ]
  },
  {
   "cell_type": "code",
   "execution_count": 26,
   "id": "0166162a",
   "metadata": {},
   "outputs": [],
   "source": [
    "accounts_country_table_insert = (\"\"\"INSERT INTO accountscountry (\n",
    "code,\n",
    "short_name,\n",
    "table_name,\n",
    "long_name,\n",
    "currency_unit\n",
    ") VALUES (%s, %s, %s, %s, %s)\n",
    "\n",
    "\"\"\")"
   ]
  },
  {
   "cell_type": "code",
   "execution_count": 27,
   "id": "b8e4a04c",
   "metadata": {},
   "outputs": [],
   "source": [
    "for i, row in AccountsCountry_clean.iterrows():\n",
    "    cur.execute(accounts_country_table_insert, list(row))"
   ]
  },
  {
   "cell_type": "code",
   "execution_count": 28,
   "id": "779daf44",
   "metadata": {},
   "outputs": [],
   "source": [
    "conn.commit()"
   ]
  },
  {
   "cell_type": "code",
   "execution_count": 29,
   "id": "59b2950b",
   "metadata": {},
   "outputs": [],
   "source": [
    "accounts_data_table_insert = (\"\"\"INSERT INTO accountsdata(\n",
    "country_name,\n",
    "country_code,\n",
    "series_name,\n",
    "series_code,\n",
    "year_1995,\n",
    "year_2000,\n",
    "year_2005,\n",
    "year_2010,\n",
    "year_2014\n",
    ") VALUES (%s, %s, %s, %s, %s, %s, %s, %s, %s)\n",
    "\"\"\")"
   ]
  },
  {
   "cell_type": "code",
   "execution_count": 36,
   "id": "b824b2be",
   "metadata": {},
   "outputs": [],
   "source": [
    "for i, row in AccountsData_clean.iterrows():\n",
    "    cur.execute(accounts_data_table_insert, list(row))"
   ]
  },
  {
   "cell_type": "code",
   "execution_count": 37,
   "id": "07e5a302",
   "metadata": {},
   "outputs": [],
   "source": [
    "conn.commit()"
   ]
  },
  {
   "cell_type": "code",
   "execution_count": 38,
   "id": "4f5deda9",
   "metadata": {},
   "outputs": [],
   "source": [
    "accountseries_data_table_insert = (\"\"\"INSERT INTO accountseries(\n",
    "code,\n",
    "topic,\n",
    "indicator_name,\n",
    "long_definition\n",
    ") VALUES (%s, %s, %s, %s)\n",
    "\"\"\")"
   ]
  },
  {
   "cell_type": "code",
   "execution_count": 39,
   "id": "25748105",
   "metadata": {},
   "outputs": [],
   "source": [
    "for i, row in AccountsSeries.iterrows():\n",
    "    cur.execute(accountseries_data_table_insert, list(row))"
   ]
  },
  {
   "cell_type": "code",
   "execution_count": 40,
   "id": "9c5c5a6e",
   "metadata": {},
   "outputs": [],
   "source": [
    "conn.commit()"
   ]
  }
 ],
 "metadata": {
  "kernelspec": {
   "display_name": "Python 3 (ipykernel)",
   "language": "python",
   "name": "python3"
  },
  "language_info": {
   "codemirror_mode": {
    "name": "ipython",
    "version": 3
   },
   "file_extension": ".py",
   "mimetype": "text/x-python",
   "name": "python",
   "nbconvert_exporter": "python",
   "pygments_lexer": "ipython3",
   "version": "3.9.7"
  }
 },
 "nbformat": 4,
 "nbformat_minor": 5
}
